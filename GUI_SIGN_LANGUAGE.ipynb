{
 "cells": [
  {
   "cell_type": "code",
   "execution_count": 3,
   "id": "b509350d",
   "metadata": {},
   "outputs": [],
   "source": [
    "#!pip install import-ipynb"
   ]
  },
  {
   "cell_type": "code",
   "execution_count": 1,
   "id": "5515764e",
   "metadata": {},
   "outputs": [
    {
     "name": "stdout",
     "output_type": "stream",
     "text": [
      "importing Jupyter notebook from create_dataset_for_gui.ipynb\n",
      "importing Jupyter notebook from Prediction_for_gui.ipynb\n",
      "2.8.0\n",
      "importing Jupyter notebook from Audio_with_gui.ipynb\n"
     ]
    }
   ],
   "source": [
    "from tkinter import *\n",
    "import tkinter as tk\n",
    "import import_ipynb\n",
    "from create_dataset_for_gui import dataset_creation\n",
    "from Prediction_for_gui import predict\n",
    "from Audio_with_gui import get_audio\n",
    "#global variables\n",
    "bg=None\n",
    "selection=1"
   ]
  },
  {
   "cell_type": "code",
   "execution_count": 2,
   "id": "ba810bf0",
   "metadata": {},
   "outputs": [],
   "source": [
    "#predict()\n",
    "#dataset_creation()"
   ]
  },
  {
   "cell_type": "code",
   "execution_count": 3,
   "id": "17e2ebc5",
   "metadata": {},
   "outputs": [],
   "source": [
    "def info_ISL():\n",
    "    new_window = Tk()\n",
    "    new_window.geometry(\"400x400\")\n",
    "    new_window.resizable(False, False)\n",
    "    text = Text(new_window)  \n",
    "    text.insert(INSERT,\" Using this application user can convert the sign/gesture into Text and Audio\")  \n",
    "    text.insert(END, \"This project is successfully compleated by Sanchit Agarkar,Pranav Unkule,Pratik Saurkar,Chatak Shinde\")  \n",
    "    text.pack()  \n",
    "    b1 = Button(new_window, text = \"Exit\",command = new_window.destroy,font=(\"Segoe UI\", 15,'bold'))\n",
    "    b1.place(x=75, y=2, width=110, height=55)\n",
    "    b1.pack()\n",
    "    label2 = Label(new_window, text =\"About Sign Langugae Recognition System\")\n",
    "    label2.pack(side = TOP, pady = 10)"
   ]
  },
  {
   "cell_type": "code",
   "execution_count": 4,
   "id": "5e0a076f",
   "metadata": {},
   "outputs": [],
   "source": [
    "window =  Tk()\n",
    "window.geometry(\"1000x600+420+100\")\n",
    "#window.resizable(True, True)\n",
    "window.resizable(False, False)\n",
    "\n",
    "label1 = Label(window, text=\"Indian Sign Language Recognition System\", font=(\"Comic Sans MS\", 18, \"bold\"), bg=\"grey16\", fg=\"white\",\n",
    "                       relief=SUNKEN)\n",
    "label1.pack(side=TOP, fill=X)\n",
    "#############################################################################################################################\n",
    "\n",
    "bg = PhotoImage(file = \"bg_try1.png\")\n",
    "# Create Canvas\n",
    "canvas1 = Canvas(window, width = 200,\n",
    "                 height = 200)\n",
    "  \n",
    "canvas1.pack(fill = \"both\", expand = True)\n",
    "  \n",
    "# Display image\n",
    "canvas1.create_image(0, 0, image = bg, \n",
    "                     anchor = \"nw\")\n",
    "\n",
    "#############################################################################################################################\n",
    "\n",
    "statusbar = Label(window, text=\"By : Samvadh\", font=(\"Comic Sans MS\", 10, \"bold\"),\n",
    "                  bg=\"grey16\", fg=\"white\", relief=SUNKEN, anchor=N)\n",
    "statusbar.pack(side=BOTTOM, fill=X)\n",
    "statusbar.pack(side=BOTTOM, fill=X)\n",
    "\n",
    "btn1 = Button(window, text=\"Predict Sign to Text\",command=predict,font=(\"Segoe UI\", 10,'bold'))\n",
    "btn1.place(x=750, y=160, width=170, height=35)\n",
    "\n",
    "btn2 = Button(window, text=\"Create Signs\",command=dataset_creation,font=(\"Segoe UI\", 10,'bold')) \n",
    "btn2.place(x=750, y=215, width=170, height=35)\n",
    "\n",
    "\n",
    "btn3 = Button(window, text=\"Predict Sign to Audio\",command=get_audio,font=(\"Segoe UI\", 10,'bold'))\n",
    "btn3.place(x=750, y=270, width=170, height=35)\n",
    "\n",
    "btn4 = Button(window, text=\"About Us\",command=info_ISL,font=(\"Segoe UI\", 10,'bold')) \n",
    "btn4.place(x=750, y=325, width=170, height=35)\n",
    "\n",
    "window.mainloop()"
   ]
  },
  {
   "cell_type": "code",
   "execution_count": null,
   "id": "2772b011",
   "metadata": {},
   "outputs": [],
   "source": []
  },
  {
   "cell_type": "code",
   "execution_count": null,
   "id": "5262c7ca",
   "metadata": {},
   "outputs": [],
   "source": []
  }
 ],
 "metadata": {
  "kernelspec": {
   "display_name": "Python 3 (ipykernel)",
   "language": "python",
   "name": "python3"
  },
  "language_info": {
   "codemirror_mode": {
    "name": "ipython",
    "version": 3
   },
   "file_extension": ".py",
   "mimetype": "text/x-python",
   "name": "python",
   "nbconvert_exporter": "python",
   "pygments_lexer": "ipython3",
   "version": "3.9.7"
  }
 },
 "nbformat": 4,
 "nbformat_minor": 5
}
