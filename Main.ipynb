{
 "cells": [
  {
   "cell_type": "code",
   "execution_count": 1,
   "id": "8919f51c",
   "metadata": {},
   "outputs": [],
   "source": [
    "import os\n",
    "import gc\n",
    "os.environ['CUDA_VISIBLE_DEVICES'] = '-1' \n",
    "\n",
    "import time\n",
    "import numpy as np\n",
    "import seaborn as sns\n",
    "import tensorflow as tf\n",
    "from tensorflow.keras.preprocessing.image import ImageDataGenerator\n",
    "from tensorflow.keras.layers import Dense, Dropout, Activation, Flatten, Add\n",
    "from tensorflow.keras.layers import Input, Conv2D, MaxPooling2D, Activation, MaxPool2D\n",
    "from tensorflow.keras.models import Model, Sequential\n",
    "from tensorflow.keras.backend import clear_session\n",
    "\n",
    "from sklearn import metrics\n",
    "from sklearn.metrics import precision_recall_fscore_support, accuracy_score, classification_report, confusion_matrix"
   ]
  },
  {
   "cell_type": "code",
   "execution_count": 2,
   "id": "98c02c25",
   "metadata": {},
   "outputs": [],
   "source": [
    "train_dir = 'C:\\\\Users\\\\ssa20\\\\OneDrive\\\\Desktop\\\\Major_Code\\\\Saved Dataset\\\\train'\n",
    "test_dir = 'C:\\\\Users\\\\ssa20\\\\OneDrive\\\\Desktop\\\\Major_Code\\\\Saved Dataset\\\\test'\n",
    "input_shape=(224,224,1)\n",
    "n_classes=10"
   ]
  },
  {
   "cell_type": "code",
   "execution_count": 3,
   "id": "23dc57ef",
   "metadata": {},
   "outputs": [],
   "source": [
    "training_generator = ImageDataGenerator(rescale=1./255,\n",
    "                                        rotation_range=2,\n",
    "                                       horizontal_flip=False,\n",
    "                                       zoom_range=0.15)"
   ]
  },
  {
   "cell_type": "code",
   "execution_count": 4,
   "id": "ccc019b3",
   "metadata": {},
   "outputs": [],
   "source": [
    "test_generator = ImageDataGenerator(rescale=1./255)"
   ]
  },
  {
   "cell_type": "code",
   "execution_count": 5,
   "id": "0eac96a7",
   "metadata": {},
   "outputs": [
    {
     "name": "stdout",
     "output_type": "stream",
     "text": [
      "Found 4000 images belonging to 10 classes.\n"
     ]
    }
   ],
   "source": [
    "train_dataset = training_generator.flow_from_directory(train_dir, \n",
    "                                                        target_size = (224, 224),\n",
    "                                                        batch_size = 8,\n",
    "                                                        class_mode = 'categorical',\n",
    "                                                        color_mode=\"grayscale\",\n",
    "                                                        shuffle = True)"
   ]
  },
  {
   "cell_type": "code",
   "execution_count": 6,
   "id": "4b74fe0d",
   "metadata": {},
   "outputs": [
    {
     "name": "stdout",
     "output_type": "stream",
     "text": [
      "Found 750 images belonging to 10 classes.\n"
     ]
    }
   ],
   "source": [
    "test_dataset = test_generator.flow_from_directory(test_dir, \n",
    "                                                 target_size = (224, 224),\n",
    "                                                 batch_size = 1,\n",
    "                                                 class_mode = 'categorical',\n",
    "                                                  color_mode=\"grayscale\",\n",
    "                                                 shuffle = False)"
   ]
  },
  {
   "cell_type": "code",
   "execution_count": 7,
   "id": "70bc485b",
   "metadata": {},
   "outputs": [
    {
     "data": {
      "text/plain": [
       "{'1': 0,\n",
       " '2': 1,\n",
       " '3': 2,\n",
       " 'a': 3,\n",
       " 'b': 4,\n",
       " 'c': 5,\n",
       " 'j': 6,\n",
       " 'my': 7,\n",
       " 'name_is': 8,\n",
       " 'y': 9}"
      ]
     },
     "execution_count": 7,
     "metadata": {},
     "output_type": "execute_result"
    }
   ],
   "source": [
    "test_dataset.class_indices"
   ]
  },
  {
   "cell_type": "markdown",
   "id": "61b8b420",
   "metadata": {},
   "source": [
    "## AlexNet Model"
   ]
  },
  {
   "cell_type": "code",
   "execution_count": 8,
   "id": "7d51ad2e",
   "metadata": {},
   "outputs": [],
   "source": [
    "AlexNet = Sequential()\n",
    "AlexNet.add(Input(shape=input_shape))\n",
    "    \n",
    "AlexNet.add(Conv2D(filters=96, kernel_size=11, strides=4))\n",
    "AlexNet.add(Activation('relu'))\n",
    "AlexNet.add(MaxPool2D(pool_size=3, strides=2))\n",
    "\n",
    "AlexNet.add(Conv2D(filters=256, kernel_size=5, padding='same'))\n",
    "AlexNet.add(Activation('relu'))\n",
    "AlexNet.add(MaxPool2D(pool_size=3, strides=2))\n",
    "\n",
    "AlexNet.add(Conv2D(filters=384, kernel_size=3, padding='same'))\n",
    "AlexNet.add(Activation('relu'))\n",
    "\n",
    "AlexNet.add(Conv2D(filters=384, kernel_size=3, padding='same'))\n",
    "AlexNet.add(Activation('relu'))\n",
    "\n",
    "AlexNet.add(Conv2D(filters=256, kernel_size=3, padding='same'))\n",
    "AlexNet.add(Activation('relu'))\n",
    "\n",
    "AlexNet.add(MaxPool2D(pool_size=3, strides=2))\n",
    "  \n",
    "AlexNet.add(Flatten())\n",
    "\n",
    "AlexNet.add(Dense(units=4096))\n",
    "AlexNet.add(Activation('relu'))\n",
    "AlexNet.add(Dropout(0.5, seed=73))\n",
    "    \n",
    "AlexNet.add(Dense(units=4096))\n",
    "AlexNet.add(Activation('relu'))\n",
    "AlexNet.add(Dropout(0.7, seed=73))\n",
    "\n",
    "AlexNet.add(Dense(n_classes, activation='softmax'))"
   ]
  },
  {
   "cell_type": "code",
   "execution_count": 9,
   "id": "978b4394",
   "metadata": {},
   "outputs": [],
   "source": [
    "AlexNet.compile(optimizer='SGD', loss='categorical_crossentropy', metrics = ['accuracy'])"
   ]
  },
  {
   "cell_type": "markdown",
   "id": "420f6567",
   "metadata": {},
   "source": [
    "## Training"
   ]
  },
  {
   "cell_type": "code",
   "execution_count": 11,
   "id": "e952ee4d",
   "metadata": {},
   "outputs": [
    {
     "name": "stdout",
     "output_type": "stream",
     "text": [
      "Epoch 1/2\n",
      "500/500 [==============================] - 271s 543ms/step - loss: 0.0692 - accuracy: 0.9758\n",
      "Epoch 2/2\n",
      "500/500 [==============================] - 250s 500ms/step - loss: 0.0261 - accuracy: 0.9918\n"
     ]
    }
   ],
   "source": [
    "start_time = time.time()\n",
    "#with tf.device(tf.DeviceSpec(device_type=\"GPU\", device_index=1)):\n",
    "history = AlexNet.fit(train_dataset, epochs=2)\n",
    "training_time = time.time() - start_time"
   ]
  },
  {
   "cell_type": "markdown",
   "id": "2c8651f3",
   "metadata": {},
   "source": [
    "## Saving Trained Model"
   ]
  },
  {
   "cell_type": "code",
   "execution_count": 12,
   "id": "31922b45",
   "metadata": {},
   "outputs": [],
   "source": [
    "model_json = AlexNet.to_json()\n",
    "local_time = time.ctime(time.time())\n",
    "local_time = local_time.split()\n",
    "dt = \"_\".join(local_time[:3])\n",
    "tm = local_time[3].split(':')\n",
    "tem = dt + \"_\" + \"_\".join(tm)\n",
    "temp = \"C://Users//ssa20//OneDrive//Desktop//Major_Code//Code//Saved Models//AlexNet_Saved_{}.json\".format(tem)\n",
    "with open(temp, 'w') as json_file:\n",
    "    json_file.write(model_json)\n",
    "from keras.models import save_model\n",
    "from keras.models import save_model\n",
    "temp = \"C://Users//ssa20//OneDrive//Desktop//Major_Code//Code//Saved Models//AlexNet_Saved_weights_{}.hdf5\".format(tem)\n",
    "network_saved = save_model(AlexNet, temp)"
   ]
  },
  {
   "cell_type": "markdown",
   "id": "19465c4f",
   "metadata": {},
   "source": [
    "## Testing"
   ]
  },
  {
   "cell_type": "code",
   "execution_count": 13,
   "id": "318de715",
   "metadata": {},
   "outputs": [
    {
     "name": "stdout",
     "output_type": "stream",
     "text": [
      "\n",
      "Accuracy on training set: 0.9917500019073486 \n",
      "Loss on training set: 0\n"
     ]
    }
   ],
   "source": [
    "print('\\nAccuracy on training set:',history.history['accuracy'][-1],'\\nLoss on training set:', round(history.history['loss'][-1]))"
   ]
  },
  {
   "cell_type": "code",
   "execution_count": 14,
   "id": "fe3a586c",
   "metadata": {},
   "outputs": [
    {
     "name": "stdout",
     "output_type": "stream",
     "text": [
      "Accuracy on test set =  1.0\n"
     ]
    },
    {
     "data": {
      "text/plain": [
       "<AxesSubplot:>"
      ]
     },
     "execution_count": 14,
     "metadata": {},
     "output_type": "execute_result"
    },
    {
     "data": {
      "image/png": "[encoded data removed]",
      "text/plain": [
       "<Figure size 432x288 with 2 Axes>"
      ]
     },
     "metadata": {
      "needs_background": "light"
     },
     "output_type": "display_data"
    }
   ],
   "source": [
    "predictions = AlexNet.predict(test_dataset)\n",
    "predictions = np.argmax(predictions,axis=1)\n",
    "print('Accuracy on test set = ',accuracy_score(test_dataset.classes, predictions))\n",
    "cm = confusion_matrix(test_dataset.classes, predictions)\n",
    "sns.heatmap(cm, annot=True, cmap=\"YlGnBu\")"
   ]
  },
  {
   "cell_type": "code",
   "execution_count": 15,
   "id": "9aa99d00",
   "metadata": {},
   "outputs": [
    {
     "name": "stdout",
     "output_type": "stream",
     "text": [
      "Precision for each class -  [1. 1. 1. 1. 1. 1. 1. 1. 1. 1.]\n",
      "Recall for each class -  [1. 1. 1. 1. 1. 1. 1. 1. 1. 1.]\n"
     ]
    }
   ],
   "source": [
    "prfs = precision_recall_fscore_support(test_dataset.classes, predictions, average=None)\n",
    "print('Precision for each class - ',prfs[0])\n",
    "print('Recall for each class - ',prfs[1])"
   ]
  },
  {
   "cell_type": "markdown",
   "id": "b9309b8a",
   "metadata": {},
   "source": [
    "### Clear Session"
   ]
  },
  {
   "cell_type": "code",
   "execution_count": 16,
   "id": "8c9e87c9",
   "metadata": {},
   "outputs": [
    {
     "data": {
      "text/plain": [
       "698"
      ]
     },
     "execution_count": 16,
     "metadata": {},
     "output_type": "execute_result"
    }
   ],
   "source": [
    "clear_session()\n",
    "gc.collect()"
   ]
  },
  {
   "cell_type": "code",
   "execution_count": null,
   "id": "0ece8a18",
   "metadata": {},
   "outputs": [],
   "source": []
  }
 ],
 "metadata": {
  "kernelspec": {
   "display_name": "Python 3 (ipykernel)",
   "language": "python",
   "name": "python3"
  },
  "language_info": {
   "codemirror_mode": {
    "name": "ipython",
    "version": 3
   },
   "file_extension": ".py",
   "mimetype": "text/x-python",
   "name": "python",
   "nbconvert_exporter": "python",
   "pygments_lexer": "ipython3",
   "version": "3.9.7"
  }
 },
 "nbformat": 4,
 "nbformat_minor": 5
}
